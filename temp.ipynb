{
 "cells": [
  {
   "cell_type": "code",
   "execution_count": null,
   "metadata": {},
   "outputs": [],
   "source": [
    "import pandas as pd\n",
    "\n",
    "csv_path = '/home/lukass/hackology/data-1.csv'\n",
    "data_df = pd.read_csv(csv_path)\n",
    "\n",
    "features = data_df.drop(columns=[\"price\"])  \n",
    "target = data_df[\"price\"]"
   ]
  }
 ],
 "metadata": {
  "kernelspec": {
   "display_name": "project2env",
   "language": "python",
   "name": "python3"
  },
  "language_info": {
   "name": "python",
   "version": "3.12.7"
  }
 },
 "nbformat": 4,
 "nbformat_minor": 2
}
